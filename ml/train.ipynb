{
 "cells": [
  {
   "cell_type": "code",
   "execution_count": null,
   "metadata": {},
   "outputs": [],
   "source": [
    "!pip install pandas \n",
    "!pip install numpy \n",
    "!pip install scikit-learn \n",
    "!pip install matplotlib \n",
    "!pip install seaborn"
   ]
  },
  {
   "cell_type": "code",
   "execution_count": 1,
   "metadata": {},
   "outputs": [],
   "source": [
    "from src.utils import convert_to_category, convert_category_into_integer\n",
    "from src.model.svm import svc_tuning\n",
    "\n",
    "import pandas as pd\n",
    "from sklearn.preprocessing import StandardScaler\n",
    "from sklearn.model_selection import train_test_split\n",
    "import warnings"
   ]
  },
  {
   "cell_type": "code",
   "execution_count": 2,
   "metadata": {},
   "outputs": [
    {
     "name": "stdout",
     "output_type": "stream",
     "text": [
      "svc kernel(poly) best score: 0.76\n",
      "svc kernel(poly) best hyperparameter: {'gamma': 0.001, 'coef0': 4.7, 'C': 0.52}\n",
      "\n",
      "svc kernel(rbf) best score: 0.76\n",
      "svc kernel(rbf) best hyperparameter: {'gamma': 1, 'coef0': 2.0, 'C': 0.13}\n",
      "\n"
     ]
    }
   ],
   "source": [
    "## 경고 무시\n",
    "warnings.filterwarnings('ignore')\n",
    "\n",
    "## train, test 데이터 불러오기\n",
    "origin_train = pd.read_csv('../data/train.csv', encoding='cp949').dropna()\n",
    "origin_test = pd.read_csv('../data/test.csv', encoding='cp949').dropna()\n",
    "origin_train = origin_train.filter(['Churn', 'CustomerCareCalls', 'MonthsInService', 'DroppedCalls', 'OverageMinutes'])\n",
    "origin_test = origin_test.filter(['Churn', 'CustomerCareCalls', 'MonthsInService', 'DroppedCalls', 'OverageMinutes'])\n",
    "origin_train = origin_train.query('OverageMinutes < 50')\n",
    "train = origin_train\n",
    "test = origin_test\n",
    "\n",
    "## 데이터 종류가 object인 칼럼 추려내기\n",
    "objects = []\n",
    "train.dtypes\n",
    "for idx in range(len(train.columns)):\n",
    "    if train.dtypes[idx] == object:\n",
    "        objects.append(train.columns[idx])\n",
    "\n",
    "## 범주형 변수 인코딩하기\n",
    "train, _ = convert_category_into_integer(train, objects)\n",
    "test, _ = convert_category_into_integer(test, objects)\n",
    "\n",
    "## 데이터 종류가 object인 칼럼을 카테고리화 하기\n",
    "train = convert_to_category(train)\n",
    "test = convert_to_category(test)\n",
    "\n",
    "## 타겟 변수 정의\n",
    "target = 'Churn'\n",
    "\n",
    "## train 데이터 분할하기\n",
    "seed = 0\n",
    "train, valid = train_test_split(train, test_size=0.4, random_state=seed)\n",
    "\n",
    "## 특성 스케일링\n",
    "compare_columns = ['CustomerCareCalls', 'MonthsInService', 'DroppedCalls', 'OverageMinutes']\n",
    "standard_scaler = StandardScaler()\n",
    "train.loc[:, compare_columns] = standard_scaler.fit_transform(train.loc[:, compare_columns])\n",
    "valid.loc[:, compare_columns] = standard_scaler.transform(valid.loc[:, compare_columns])\n",
    "\n",
    "train = pd.DataFrame(train, columns=train.columns)\n",
    "\n",
    "## SVM\n",
    "# 이상치 처리에 민감하지 않음\n",
    "# 복잡한 데이터셋 처리 가능\n",
    "svc_tuning(target, train, valid, seed, sample_size=300)\n"
   ]
  }
 ],
 "metadata": {
  "kernelspec": {
   "display_name": "deep_learning",
   "language": "python",
   "name": "python3"
  },
  "language_info": {
   "codemirror_mode": {
    "name": "ipython",
    "version": 3
   },
   "file_extension": ".py",
   "mimetype": "text/x-python",
   "name": "python",
   "nbconvert_exporter": "python",
   "pygments_lexer": "ipython3",
   "version": "3.10.14"
  }
 },
 "nbformat": 4,
 "nbformat_minor": 2
}
